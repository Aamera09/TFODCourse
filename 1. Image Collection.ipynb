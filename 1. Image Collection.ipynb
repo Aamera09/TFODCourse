{
 "cells": [
  {
   "cell_type": "markdown",
   "metadata": {},
   "source": [
    "# 1. Import Dependencies"
   ]
  },
  {
   "cell_type": "code",
   "execution_count": 1,
   "metadata": {
    "scrolled": true
   },
   "outputs": [
    {
     "name": "stdout",
     "output_type": "stream",
     "text": [
      "Requirement already satisfied: opencv-python in c:\\fypimp\\tfodcourse\\tfod\\lib\\site-packages (4.5.3.56)\n",
      "Requirement already satisfied: numpy>=1.14.5 in c:\\fypimp\\tfodcourse\\tfod\\lib\\site-packages (from opencv-python) (1.19.5)\n"
     ]
    },
    {
     "name": "stderr",
     "output_type": "stream",
     "text": [
      "WARNING: Ignoring invalid distribution -rotobuf (c:\\fypimp\\tfodcourse\\tfod\\lib\\site-packages)\n",
      "WARNING: Ignoring invalid distribution -rotobuf (c:\\fypimp\\tfodcourse\\tfod\\lib\\site-packages)\n",
      "WARNING: Ignoring invalid distribution -rotobuf (c:\\fypimp\\tfodcourse\\tfod\\lib\\site-packages)\n",
      "WARNING: Ignoring invalid distribution -rotobuf (c:\\fypimp\\tfodcourse\\tfod\\lib\\site-packages)\n",
      "WARNING: Ignoring invalid distribution -rotobuf (c:\\fypimp\\tfodcourse\\tfod\\lib\\site-packages)\n"
     ]
    }
   ],
   "source": [
    "!pip install opencv-python"
   ]
  },
  {
   "cell_type": "code",
   "execution_count": 2,
   "metadata": {},
   "outputs": [],
   "source": [
    "# Import opencv\n",
    "import cv2 \n",
    "\n",
    "# Import uuid\n",
    "import uuid\n",
    "\n",
    "# Import Operating System\n",
    "import os\n",
    "\n",
    "# Import time\n",
    "import time"
   ]
  },
  {
   "cell_type": "markdown",
   "metadata": {},
   "source": [
    "# 2. Define Images to Collect"
   ]
  },
  {
   "cell_type": "code",
   "execution_count": 4,
   "metadata": {},
   "outputs": [],
   "source": [
    "labels = ['Dry Waste-Metal Can', 'Dry Waste-Paper','Dry Waste-Paper Ball','drywaste-Bottle','drywaste-cardboard','drywaste-CrushedBottle','Wet Waste-Bread Slice','wetwaste-Apple','wetwaste-banana','wetwaste-EggShell','wetwaste-HalfApple','wetwaste-potato','Dry Waste-Wrapper','Dry Waste-Tetrapack']\n"
   ]
  },
  {
   "cell_type": "markdown",
   "metadata": {},
   "source": [
    "# 3. Setup Folders "
   ]
  },
  {
   "cell_type": "code",
   "execution_count": 5,
   "metadata": {},
   "outputs": [],
   "source": [
    "IMAGES_PATH = os.path.join('Tensorflow', 'workspace', 'images', 'collectedimages')"
   ]
  },
  {
   "cell_type": "code",
   "execution_count": 6,
   "metadata": {},
   "outputs": [],
   "source": [
    "if not os.path.exists(IMAGES_PATH):\n",
    "    if os.name == 'posix':\n",
    "        !mkdir -p {IMAGES_PATH}\n",
    "    if os.name == 'nt':\n",
    "         !mkdir {IMAGES_PATH}\n",
    "for label in labels:\n",
    "    path = os.path.join(IMAGES_PATH, label)\n",
    "    if not os.path.exists(path):\n",
    "        !mkdir {path}"
   ]
  },
  {
   "cell_type": "markdown",
   "metadata": {},
   "source": [
    "# 4. Capture Images"
   ]
  },
  {
   "cell_type": "code",
   "execution_count": 6,
   "metadata": {},
   "outputs": [
    {
     "name": "stdout",
     "output_type": "stream",
     "text": [
      "Collecting images for Dry Waste-Metal Can\n"
     ]
    },
    {
     "ename": "NameError",
     "evalue": "name 'number_imgs' is not defined",
     "output_type": "error",
     "traceback": [
      "\u001b[1;31m---------------------------------------------------------------------------\u001b[0m",
      "\u001b[1;31mNameError\u001b[0m                                 Traceback (most recent call last)",
      "\u001b[1;32m~\\AppData\\Local\\Temp/ipykernel_16200/1004706123.py\u001b[0m in \u001b[0;36m<module>\u001b[1;34m\u001b[0m\n\u001b[0;32m      3\u001b[0m     \u001b[0mprint\u001b[0m\u001b[1;33m(\u001b[0m\u001b[1;34m'Collecting images for {}'\u001b[0m\u001b[1;33m.\u001b[0m\u001b[0mformat\u001b[0m\u001b[1;33m(\u001b[0m\u001b[0mlabel\u001b[0m\u001b[1;33m)\u001b[0m\u001b[1;33m)\u001b[0m\u001b[1;33m\u001b[0m\u001b[1;33m\u001b[0m\u001b[0m\n\u001b[0;32m      4\u001b[0m     \u001b[0mtime\u001b[0m\u001b[1;33m.\u001b[0m\u001b[0msleep\u001b[0m\u001b[1;33m(\u001b[0m\u001b[1;36m5\u001b[0m\u001b[1;33m)\u001b[0m\u001b[1;33m\u001b[0m\u001b[1;33m\u001b[0m\u001b[0m\n\u001b[1;32m----> 5\u001b[1;33m     \u001b[1;32mfor\u001b[0m \u001b[0mimgnum\u001b[0m \u001b[1;32min\u001b[0m \u001b[0mrange\u001b[0m\u001b[1;33m(\u001b[0m\u001b[0mnumber_imgs\u001b[0m\u001b[1;33m)\u001b[0m\u001b[1;33m:\u001b[0m\u001b[1;33m\u001b[0m\u001b[1;33m\u001b[0m\u001b[0m\n\u001b[0m\u001b[0;32m      6\u001b[0m         \u001b[0mprint\u001b[0m\u001b[1;33m(\u001b[0m\u001b[1;34m'Collecting image {}'\u001b[0m\u001b[1;33m.\u001b[0m\u001b[0mformat\u001b[0m\u001b[1;33m(\u001b[0m\u001b[0mimgnum\u001b[0m\u001b[1;33m)\u001b[0m\u001b[1;33m)\u001b[0m\u001b[1;33m\u001b[0m\u001b[1;33m\u001b[0m\u001b[0m\n\u001b[0;32m      7\u001b[0m         \u001b[0mret\u001b[0m\u001b[1;33m,\u001b[0m \u001b[0mframe\u001b[0m \u001b[1;33m=\u001b[0m \u001b[0mcap\u001b[0m\u001b[1;33m.\u001b[0m\u001b[0mread\u001b[0m\u001b[1;33m(\u001b[0m\u001b[1;33m)\u001b[0m\u001b[1;33m\u001b[0m\u001b[1;33m\u001b[0m\u001b[0m\n",
      "\u001b[1;31mNameError\u001b[0m: name 'number_imgs' is not defined"
     ]
    }
   ],
   "source": [
    "for label in labels:\n",
    "    cap = cv2.VideoCapture(0)\n",
    "    print('Collecting images for {}'.format(label))\n",
    "    time.sleep(5)\n",
    "    for imgnum in range(number_imgs):\n",
    "        print('Collecting image {}'.format(imgnum))\n",
    "        ret, frame = cap.read()\n",
    "        imgname = os.path.join(IMAGES_PATH,label,label+'.'+'{}.jpg'.format(str(uuid.uuid1())))\n",
    "        cv2.imwrite(imgname, frame)\n",
    "        cv2.imshow('frame', frame)\n",
    "        time.sleep(2)\n",
    "\n",
    "        if cv2.waitKey(1) & 0xFF == ord('q'):\n",
    "            break\n",
    "cap.release()\n",
    "cv2.destroyAllWindows()"
   ]
  },
  {
   "cell_type": "markdown",
   "metadata": {},
   "source": [
    "# 5. Image Labelling"
   ]
  },
  {
   "cell_type": "code",
   "execution_count": 7,
   "metadata": {
    "scrolled": false
   },
   "outputs": [
    {
     "name": "stdout",
     "output_type": "stream",
     "text": [
      "Requirement already satisfied: pyqt5 in c:\\fypimp\\tfodcourse\\tfod\\lib\\site-packages (5.15.4)"
     ]
    },
    {
     "name": "stderr",
     "output_type": "stream",
     "text": [
      "WARNING: Ignoring invalid distribution -rotobuf (c:\\fypimp\\tfodcourse\\tfod\\lib\\site-packages)\n",
      "WARNING: Ignoring invalid distribution -rotobuf (c:\\fypimp\\tfodcourse\\tfod\\lib\\site-packages)\n",
      "WARNING: Ignoring invalid distribution -rotobuf (c:\\fypimp\\tfodcourse\\tfod\\lib\\site-packages)\n",
      "WARNING: Ignoring invalid distribution -rotobuf (c:\\fypimp\\tfodcourse\\tfod\\lib\\site-packages)\n",
      "WARNING: Ignoring invalid distribution -rotobuf (c:\\fypimp\\tfodcourse\\tfod\\lib\\site-packages)\n"
     ]
    },
    {
     "name": "stdout",
     "output_type": "stream",
     "text": [
      "\n",
      "Requirement already satisfied: lxml in c:\\fypimp\\tfodcourse\\tfod\\lib\\site-packages (4.6.3)\n",
      "Requirement already satisfied: PyQt5-Qt5>=5.15 in c:\\fypimp\\tfodcourse\\tfod\\lib\\site-packages (from pyqt5) (5.15.2)\n",
      "Requirement already satisfied: PyQt5-sip<13,>=12.8 in c:\\fypimp\\tfodcourse\\tfod\\lib\\site-packages (from pyqt5) (12.9.0)\n"
     ]
    }
   ],
   "source": [
    "!pip install --upgrade pyqt5 lxml"
   ]
  },
  {
   "cell_type": "code",
   "execution_count": 8,
   "metadata": {},
   "outputs": [],
   "source": [
    "LABELIMG_PATH = os.path.join('Tensorflow', 'labelimg')"
   ]
  },
  {
   "cell_type": "code",
   "execution_count": 9,
   "metadata": {},
   "outputs": [],
   "source": [
    "if not os.path.exists(LABELIMG_PATH):\n",
    "    !mkdir {LABELIMG_PATH}\n",
    "    !git clone https://github.com/tzutalin/labelImg {LABELIMG_PATH}"
   ]
  },
  {
   "cell_type": "code",
   "execution_count": 10,
   "metadata": {},
   "outputs": [],
   "source": [
    "if os.name == 'posix':\n",
    "    !make qt5py3\n",
    "if os.name =='nt':\n",
    "    !cd {LABELIMG_PATH} && pyrcc5 -o libs/resources.py resources.qrc"
   ]
  },
  {
   "cell_type": "code",
   "execution_count": 12,
   "metadata": {
    "scrolled": false
   },
   "outputs": [
    {
     "name": "stdout",
     "output_type": "stream",
     "text": [
      "Image:C:\\FYPimp\\TFODCourse\\Tensorflow\\workspace\\images\\collectedimages\\Dry Waste-Wrapper\\dairy milk wrapper - Google Search\\data with Cadbury Dairy Milk chocolate.jpg -> Annotation:C:/FYPimp/TFODCourse/Tensorflow/workspace/images/collectedimages/Dry Waste-Wrapper/dairy milk wrapper - Google Search/data with Cadbury Dairy Milk chocolate.xml"
     ]
    },
    {
     "name": "stderr",
     "output_type": "stream",
     "text": [
      "qt.gui.icc: fromIccProfile: failed minimal tag size sanity\n",
      "qt.gui.icc: Unsupported ICC profile class 70727472\n",
      "libpng warning: iCCP: known incorrect sRGB profile\n"
     ]
    },
    {
     "name": "stdout",
     "output_type": "stream",
     "text": [
      "\n",
      "Image:C:\\FYPimp\\TFODCourse\\Tensorflow\\workspace\\images\\collectedimages\\Dry Waste-Wrapper\\dairy milk wrapper - Google Search\\Trademark Purple Shade....jpg -> Annotation:C:/FYPimp/TFODCourse/Tensorflow/workspace/images/collectedimages/Dry Waste-Wrapper/dairy milk wrapper - Google Search/Trademark Purple Shade....xml\n",
      "Image:C:\\FYPimp\\TFODCourse\\Tensorflow\\workspace\\images\\collectedimages\\Dry Waste-Tetrapack\\tetra pack - Google Search\\1 Litre Tetra Pack Ghee....jpg -> Annotation:C:/FYPimp/TFODCourse/Tensorflow/workspace/images/collectedimages/Dry Waste-Tetrapack/tetra pack - Google Search/1 Litre Tetra Pack Ghee....xml\n",
      "Image:C:\\FYPimp\\TFODCourse\\Tensorflow\\workspace\\images\\collectedimages\\Dry Waste-Tetrapack\\tetra pack - Google Search\\76 Tetra pak ideas.jpg -> Annotation:C:/FYPimp/TFODCourse/Tensorflow/workspace/images/collectedimages/Dry Waste-Tetrapack/tetra pack - Google Search/76 Tetra pak ideas.xml\n",
      "Image:C:\\FYPimp\\TFODCourse\\Tensorflow\\workspace\\images\\collectedimages\\Dry Waste-Tetrapack\\tetra pack - Google Search\\Amul Gold Homogenised Full Cream Milk....jpg -> Annotation:C:/FYPimp/TFODCourse/Tensorflow/workspace/images/collectedimages/Dry Waste-Tetrapack/tetra pack - Google Search/Amul Gold Homogenised Full Cream Milk....xml\n",
      "Image:C:\\FYPimp\\TFODCourse\\Tensorflow\\workspace\\images\\collectedimages\\Dry Waste-Tetrapack\\tetra pack - Google Search\\Amul Gold Milk (Tetra Pak) - Gharstuff.jpg -> Annotation:C:/FYPimp/TFODCourse/Tensorflow/workspace/images/collectedimages/Dry Waste-Tetrapack/tetra pack - Google Search/Amul Gold Milk (Tetra Pak) - Gharstuff.xml\n",
      "Image:C:\\FYPimp\\TFODCourse\\Tensorflow\\workspace\\images\\collectedimages\\Dry Waste-Tetrapack\\tetra pack - Google Search\\Amul Milk Plastic Packet Vs Tetra Pack....jpg -> Annotation:C:/FYPimp/TFODCourse/Tensorflow/workspace/images/collectedimages/Dry Waste-Tetrapack/tetra pack - Google Search/Amul Milk Plastic Packet Vs Tetra Pack....xml\n",
      "Image:C:\\FYPimp\\TFODCourse\\Tensorflow\\workspace\\images\\collectedimages\\Dry Waste-Tetrapack\\tetra pack - Google Search\\Amul Taaza Toned Longlife Milk 1 Ltr....jpg -> Annotation:C:/FYPimp/TFODCourse/Tensorflow/workspace/images/collectedimages/Dry Waste-Tetrapack/tetra pack - Google Search/Amul Taaza Toned Longlife Milk 1 Ltr....xml\n",
      "Image:C:\\FYPimp\\TFODCourse\\Tensorflow\\workspace\\images\\collectedimages\\Dry Waste-Tetrapack\\tetra pack - Google Search\\Buy Amul Taaza Tetra Pack Milk Online....png -> Annotation:C:/FYPimp/TFODCourse/Tensorflow/workspace/images/collectedimages/Dry Waste-Tetrapack/tetra pack - Google Search/Buy Amul Taaza Tetra Pack Milk Online....xml\n",
      "Image:C:\\FYPimp\\TFODCourse\\Tensorflow\\workspace\\images\\collectedimages\\Dry Waste-Tetrapack\\tetra pack - Google Search\\Buy Cavins Milkshake Vanilla 180 Ml....jpg -> Annotation:C:/FYPimp/TFODCourse/Tensorflow/workspace/images/collectedimages/Dry Waste-Tetrapack/tetra pack - Google Search/Buy Cavins Milkshake Vanilla 180 Ml....xml\n",
      "Image:C:\\FYPimp\\TFODCourse\\Tensorflow\\workspace\\images\\collectedimages\\Dry Waste-Tetrapack\\tetra pack - Google Search\\Buy Modern Dairy Taaza Milk Tetra Pack....jpg -> Annotation:C:/FYPimp/TFODCourse/Tensorflow/workspace/images/collectedimages/Dry Waste-Tetrapack/tetra pack - Google Search/Buy Modern Dairy Taaza Milk Tetra Pack....xml\n",
      "Image:C:\\FYPimp\\TFODCourse\\Tensorflow\\workspace\\images\\collectedimages\\Dry Waste-Tetrapack\\tetra pack - Google Search\\Choose Tetra Packs For Milk_ Go Eco....jpg -> Annotation:C:/FYPimp/TFODCourse/Tensorflow/workspace/images/collectedimages/Dry Waste-Tetrapack/tetra pack - Google Search/Choose Tetra Packs For Milk_ Go Eco....xml\n",
      "Image:C:\\FYPimp\\TFODCourse\\Tensorflow\\workspace\\images\\collectedimages\\Dry Waste-Tetrapack\\tetra pack - Google Search\\difference between Tetra Pack milk and....jpg -> Annotation:C:/FYPimp/TFODCourse/Tensorflow/workspace/images/collectedimages/Dry Waste-Tetrapack/tetra pack - Google Search/difference between Tetra Pack milk and....xml\n",
      "Image:C:\\FYPimp\\TFODCourse\\Tensorflow\\workspace\\images\\collectedimages\\Dry Waste-Tetrapack\\tetra pack - Google Search\\Energy Lyte Ors Tetra Pack....jpg -> Annotation:C:/FYPimp/TFODCourse/Tensorflow/workspace/images/collectedimages/Dry Waste-Tetrapack/tetra pack - Google Search/Energy Lyte Ors Tetra Pack....xml\n",
      "Image:C:\\FYPimp\\TFODCourse\\Tensorflow\\workspace\\images\\collectedimages\\Dry Waste-Tetrapack\\tetra pack - Google Search\\Instaday Tetra Pack Milk ( Double Toned....jpg -> Annotation:C:/FYPimp/TFODCourse/Tensorflow/workspace/images/collectedimages/Dry Waste-Tetrapack/tetra pack - Google Search/Instaday Tetra Pack Milk ( Double Toned....xml\n",
      "Image:C:\\FYPimp\\TFODCourse\\Tensorflow\\workspace\\images\\collectedimages\\Dry Waste-Tetrapack\\tetra pack - Google Search\\Instaday Tetra Pack Toned Milk_ Pack....jpg -> Annotation:C:/FYPimp/TFODCourse/Tensorflow/workspace/images/collectedimages/Dry Waste-Tetrapack/tetra pack - Google Search/Instaday Tetra Pack Toned Milk_ Pack....xml\n",
      "Image:C:\\FYPimp\\TFODCourse\\Tensorflow\\workspace\\images\\collectedimages\\Dry Waste-Tetrapack\\tetra pack - Google Search\\Kissan Puree - Tomato_ 200g Tetra Pack....jpg -> Annotation:C:/FYPimp/TFODCourse/Tensorflow/workspace/images/collectedimages/Dry Waste-Tetrapack/tetra pack - Google Search/Kissan Puree - Tomato_ 200g Tetra Pack....xml\n",
      "Image:C:\\FYPimp\\TFODCourse\\Tensorflow\\workspace\\images\\collectedimages\\Dry Waste-Tetrapack\\tetra pack - Google Search\\New Tetra Pak cap eases pouring of....jpg -> Annotation:C:/FYPimp/TFODCourse/Tensorflow/workspace/images/collectedimages/Dry Waste-Tetrapack/tetra pack - Google Search/New Tetra Pak cap eases pouring of....xml\n",
      "Image:C:\\FYPimp\\TFODCourse\\Tensorflow\\workspace\\images\\collectedimages\\Dry Waste-Tetrapack\\tetra pack - Google Search\\Pak - PSD Mockups.jpg -> Annotation:C:/FYPimp/TFODCourse/Tensorflow/workspace/images/collectedimages/Dry Waste-Tetrapack/tetra pack - Google Search/Pak - PSD Mockups.xml\n",
      "Image:C:\\FYPimp\\TFODCourse\\Tensorflow\\workspace\\images\\collectedimages\\Dry Waste-Tetrapack\\tetra pack - Google Search\\Real Fruit Power Mixed Fruit Juice_ 200....jpg -> Annotation:C:/FYPimp/TFODCourse/Tensorflow/workspace/images/collectedimages/Dry Waste-Tetrapack/tetra pack - Google Search/Real Fruit Power Mixed Fruit Juice_ 200....xml\n",
      "Image:C:\\FYPimp\\TFODCourse\\Tensorflow\\workspace\\images\\collectedimages\\Dry Waste-Tetrapack\\tetra pack - Google Search\\Real Juice - Mosambi_ 1L Tetra Pack....jpg -> Annotation:C:/FYPimp/TFODCourse/Tensorflow/workspace/images/collectedimages/Dry Waste-Tetrapack/tetra pack - Google Search/Real Juice - Mosambi_ 1L Tetra Pack....xml\n",
      "Image:C:\\FYPimp\\TFODCourse\\Tensorflow\\workspace\\images\\collectedimages\\Dry Waste-Tetrapack\\tetra pack - Google Search\\Set of milk tetra pack with different....jpg -> Annotation:C:/FYPimp/TFODCourse/Tensorflow/workspace/images/collectedimages/Dry Waste-Tetrapack/tetra pack - Google Search/Set of milk tetra pack with different....xml\n",
      "Image:C:\\FYPimp\\TFODCourse\\Tensorflow\\workspace\\images\\collectedimages\\Dry Waste-Tetrapack\\tetra pack - Google Search\\Tetra Pack designs_ themes_ templates....jpg -> Annotation:C:/FYPimp/TFODCourse/Tensorflow/workspace/images/collectedimages/Dry Waste-Tetrapack/tetra pack - Google Search/Tetra Pack designs_ themes_ templates....xml\n",
      "Image:C:\\FYPimp\\TFODCourse\\Tensorflow\\workspace\\images\\collectedimages\\Dry Waste-Tetrapack\\tetra pack - Google Search\\Tetra Pack Vector Images (22).jpg -> Annotation:C:/FYPimp/TFODCourse/Tensorflow/workspace/images/collectedimages/Dry Waste-Tetrapack/tetra pack - Google Search/Tetra Pack Vector Images (22).xml\n",
      "Image:C:\\FYPimp\\TFODCourse\\Tensorflow\\workspace\\images\\collectedimages\\Dry Waste-Tetrapack\\tetra pack - Google Search\\Tetra Packs – Daily Fresh – Dailee.png -> Annotation:C:/FYPimp/TFODCourse/Tensorflow/workspace/images/collectedimages/Dry Waste-Tetrapack/tetra pack - Google Search/Tetra Packs – Daily Fresh – Dailee.xml\n",
      "Image:C:\\FYPimp\\TFODCourse\\Tensorflow\\workspace\\images\\collectedimages\\Dry Waste-Tetrapack\\tetra pack - Google Search\\Tetra Pak Formula Containers....png -> Annotation:C:/FYPimp/TFODCourse/Tensorflow/workspace/images/collectedimages/Dry Waste-Tetrapack/tetra pack - Google Search/Tetra Pak Formula Containers....xml\n",
      "Image:C:\\FYPimp\\TFODCourse\\Tensorflow\\workspace\\images\\collectedimages\\Dry Waste-Tetrapack\\tetra pack - Google Search\\Tetra Pak launches new packaging... (1).jpg -> Annotation:C:/FYPimp/TFODCourse/Tensorflow/workspace/images/collectedimages/Dry Waste-Tetrapack/tetra pack - Google Search/Tetra Pak launches new packaging... (1).xml\n",
      "Image:C:\\FYPimp\\TFODCourse\\Tensorflow\\workspace\\images\\collectedimages\\Dry Waste-Tetrapack\\tetra pack - Google Search\\Tetra Pak Launches New Packaging....jpg -> Annotation:C:/FYPimp/TFODCourse/Tensorflow/workspace/images/collectedimages/Dry Waste-Tetrapack/tetra pack - Google Search/Tetra Pak Launches New Packaging....xml\n",
      "Image:C:\\FYPimp\\TFODCourse\\Tensorflow\\workspace\\images\\collectedimages\\Dry Waste-Tetrapack\\tetra pack - Google Search\\Tetra Pak responds to sustainability....jpg -> Annotation:C:/FYPimp/TFODCourse/Tensorflow/workspace/images/collectedimages/Dry Waste-Tetrapack/tetra pack - Google Search/Tetra Pak responds to sustainability....xml\n"
     ]
    }
   ],
   "source": [
    "!cd {LABELIMG_PATH} && python labelImg.py"
   ]
  },
  {
   "cell_type": "markdown",
   "metadata": {},
   "source": [
    "# 6. Move them into a Training and Testing Partition"
   ]
  },
  {
   "cell_type": "markdown",
   "metadata": {},
   "source": [
    "# OPTIONAL - 7. Compress them for Colab Training"
   ]
  },
  {
   "cell_type": "code",
   "execution_count": 13,
   "metadata": {},
   "outputs": [],
   "source": [
    "TRAIN_PATH = os.path.join('Tensorflow', 'workspace', 'images', 'train')\n",
    "TEST_PATH = os.path.join('Tensorflow', 'workspace', 'images', 'test')\n",
    "ARCHIVE_PATH = os.path.join('Tensorflow', 'workspace', 'images', 'archive.tar.gz')"
   ]
  },
  {
   "cell_type": "code",
   "execution_count": 14,
   "metadata": {},
   "outputs": [],
   "source": [
    "!tar -czf {ARCHIVE_PATH} {TRAIN_PATH} {TEST_PATH}"
   ]
  },
  {
   "cell_type": "code",
   "execution_count": null,
   "metadata": {},
   "outputs": [],
   "source": []
  }
 ],
 "metadata": {
  "kernelspec": {
   "display_name": "tfod",
   "language": "python",
   "name": "tfod"
  },
  "language_info": {
   "codemirror_mode": {
    "name": "ipython",
    "version": 3
   },
   "file_extension": ".py",
   "mimetype": "text/x-python",
   "name": "python",
   "nbconvert_exporter": "python",
   "pygments_lexer": "ipython3",
   "version": "3.7.9"
  }
 },
 "nbformat": 4,
 "nbformat_minor": 2
}
